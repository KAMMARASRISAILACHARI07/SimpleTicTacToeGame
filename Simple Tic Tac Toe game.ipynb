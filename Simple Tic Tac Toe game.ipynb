{
 "cells": [
  {
   "cell_type": "markdown",
   "id": "7a87617f-3af9-44f5-8a20-21e4ab0d6c8a",
   "metadata": {},
   "source": [
    "**Step 1: Write a function that can print out a board. Set up your board as a list, where each index 1-9 corresponds with a number on a number pad, so you get a 3 by 3 board representation.**"
   ]
  },
  {
   "cell_type": "code",
   "execution_count": 55,
   "id": "9cf3996f-be1e-41a9-85f4-b9f79851eb06",
   "metadata": {},
   "outputs": [],
   "source": [
    "from IPython.display import clear_output\n",
    "\n",
    "def display_board(board):\n",
    "    clear_output()   #remember this only works in jupyter\n",
    "\n",
    "    print('      |      |')\n",
    "    print('   ' + board[7] +  '  |  ' + board[8] +  '   |   ' + board[9])\n",
    "    print('      |      |')\n",
    "    print('---------------------')\n",
    "    print('      |      |')\n",
    "    print('   ' + board[4] +  '  |  ' + board[5] +  '   |   ' + board[6])\n",
    "    print('      |      |')\n",
    "    print('---------------------')\n",
    "    print('      |      |')\n",
    "    print('   ' + board[1] +  '  |  ' + board[2] +  '   |   ' + board[3])\n",
    "    print('      |      |')\n",
    "\n"
   ]
  },
  {
   "cell_type": "markdown",
   "id": "0715a631-16a0-4cf9-9c69-2b1271e654e6",
   "metadata": {},
   "source": [
    "**TEST Step 1:** run your function on a test version of the board list, and make adjustments as necessary"
   ]
  },
  {
   "cell_type": "code",
   "execution_count": 57,
   "id": "d95b356c-cf41-445d-926c-efb1923bbbed",
   "metadata": {},
   "outputs": [
    {
     "name": "stdout",
     "output_type": "stream",
     "text": [
      "      |      |\n",
      "   X  |  O   |   X\n",
      "      |      |\n",
      "---------------------\n",
      "      |      |\n",
      "   O  |  X   |   O\n",
      "      |      |\n",
      "---------------------\n",
      "      |      |\n",
      "   X  |  O   |   X\n",
      "      |      |\n"
     ]
    }
   ],
   "source": [
    "test_board = ['#','X','O','X','O','X','O','X','O','X']\n",
    "display_board(test_board)"
   ]
  },
  {
   "cell_type": "markdown",
   "id": "98a5f477-b926-43e8-a48c-967af2360e1e",
   "metadata": {},
   "source": [
    "**Step 2: Write a function that can take in a player input and assign their marker as 'X' or 'O'. Think about using *while* loops to continually ask until you get a correct answer.**"
   ]
  },
  {
   "cell_type": "code",
   "execution_count": 59,
   "id": "4d889261-0b0b-481b-8628-b2b88a021335",
   "metadata": {},
   "outputs": [],
   "source": [
    "def player_input():\n",
    "    marker = ''\n",
    "\n",
    "    while not (marker == 'X' or marker == 'O'):\n",
    "        marker = input('Player 1: Do you want to be X or O?').upper()\n",
    "\n",
    "    if marker == 'X':\n",
    "        return ('X','O')\n",
    "    else:\n",
    "        return ('O','X')"
   ]
  },
  {
   "cell_type": "markdown",
   "id": "c935823a-8ae0-4d07-a695-27c61e1aa59c",
   "metadata": {},
   "source": [
    "**TEST Step 2:** run the function to make sure it returns the desired output"
   ]
  },
  {
   "cell_type": "code",
   "execution_count": 61,
   "id": "e71a5c84-cd75-4843-bdf7-2501a36dc88c",
   "metadata": {},
   "outputs": [
    {
     "name": "stdin",
     "output_type": "stream",
     "text": [
      "Player 1: Do you want to be X or O? o\n"
     ]
    },
    {
     "data": {
      "text/plain": [
       "('O', 'X')"
      ]
     },
     "execution_count": 61,
     "metadata": {},
     "output_type": "execute_result"
    }
   ],
   "source": [
    "player_input()\n"
   ]
  },
  {
   "cell_type": "markdown",
   "id": "5482ce8e-711a-48c6-bc3c-67a7f28126f8",
   "metadata": {},
   "source": [
    "**Step 3: Write a function that takes in the board list object, a marker ('X' or 'O'), and a desired position (number 1-9) and assigns it to the board.**"
   ]
  },
  {
   "cell_type": "code",
   "execution_count": 63,
   "id": "cf4a3a93-ec67-4f33-9d9f-51cc69cda2aa",
   "metadata": {},
   "outputs": [],
   "source": [
    "def place_marker(board, marker, position):\n",
    "    board[position] =marker"
   ]
  },
  {
   "cell_type": "markdown",
   "id": "9d788f7f-24c3-4046-a9fd-6dd4e6d5d0b7",
   "metadata": {},
   "source": [
    "**TEST Step 3:** run the place marker function using test parameters and display the modified board"
   ]
  },
  {
   "cell_type": "code",
   "execution_count": 65,
   "id": "218e4666-d140-4acb-8ed4-02970b045f74",
   "metadata": {},
   "outputs": [
    {
     "name": "stdout",
     "output_type": "stream",
     "text": [
      "      |      |\n",
      "   X  |  $   |   X\n",
      "      |      |\n",
      "---------------------\n",
      "      |      |\n",
      "   O  |  X   |   O\n",
      "      |      |\n",
      "---------------------\n",
      "      |      |\n",
      "   X  |  O   |   X\n",
      "      |      |\n"
     ]
    }
   ],
   "source": [
    "place_marker(test_board,'$',8)\n",
    "display_board(test_board)"
   ]
  },
  {
   "cell_type": "markdown",
   "id": "a14397b4-92f9-4acc-8d52-7a406b797d7d",
   "metadata": {},
   "source": [
    "**Step 4: Write a function that takes in a board and checks to see if someone has won. **"
   ]
  },
  {
   "cell_type": "code",
   "execution_count": 67,
   "id": "e8b40003-6feb-4719-a824-927ad64f4426",
   "metadata": {},
   "outputs": [],
   "source": [
    "def win_check(board,mark):\n",
    "\n",
    "    return ((board[7] == mark and board[8] == mark and board[9] == mark) or #across the top \n",
    "           (board[4] == mark and board[5] == mark and board[6] == mark) or #across the middle\n",
    "           (board[1] == mark and board[2] == mark and board[3] == mark) or #across the bottom\n",
    "           (board[7] == mark and board[4] == mark and board[1] == mark) or #down the leftside\n",
    "           (board[8] == mark and board[5] == mark and board[2] == mark) or #down the middle\n",
    "           (board[9] == mark and board[6] == mark and board[3] == mark) or #down the rightside\n",
    "           (board[7] == mark and board[5] == mark and board[3] == mark) or # diagonal\n",
    "           (board[9] == mark and board[5] == mark and board[1] == mark))   # diagonal"
   ]
  },
  {
   "cell_type": "markdown",
   "id": "5de1b88e-1e5c-4eba-b496-b42d3697f44b",
   "metadata": {},
   "source": [
    "**TEST Step 4:** run the win_check function against our test_board - it should return True"
   ]
  },
  {
   "cell_type": "code",
   "execution_count": 69,
   "id": "cb6ca455-ee96-4fb7-8086-5db96d0003b9",
   "metadata": {},
   "outputs": [
    {
     "data": {
      "text/plain": [
       "True"
      ]
     },
     "execution_count": 69,
     "metadata": {},
     "output_type": "execute_result"
    }
   ],
   "source": [
    "win_check(test_board, 'X')"
   ]
  },
  {
   "cell_type": "markdown",
   "id": "3013546c-650b-4070-a208-526339c005c8",
   "metadata": {},
   "source": [
    "**Step 5: Write a function that uses the random module to randomly decide which player goes first. You may want to lookup random.randint() Return a string of which player went first.**"
   ]
  },
  {
   "cell_type": "code",
   "execution_count": 71,
   "id": "445d1a0a-042d-4962-b37b-31d349db256e",
   "metadata": {},
   "outputs": [],
   "source": [
    "import random \n",
    "def choose_first():\n",
    "    if random.randint(0,1) == 0:\n",
    "        return 'player 2'\n",
    "    else:\n",
    "        return 'player 1'"
   ]
  },
  {
   "cell_type": "markdown",
   "id": "7d53a937-0a25-4b02-927f-627e68754d75",
   "metadata": {},
   "source": [
    "**Step 6: Write a function that returns a boolean indicating whether a space on the board is freely available.**"
   ]
  },
  {
   "cell_type": "code",
   "execution_count": 73,
   "id": "b47fa9a9-b537-44b6-af96-8b833aaefef0",
   "metadata": {},
   "outputs": [],
   "source": [
    "def space_check(board,position):\n",
    "    return board[position] == ' '\n",
    "    "
   ]
  },
  {
   "cell_type": "markdown",
   "id": "4016168d-9afd-4507-acc1-64ad630fb90f",
   "metadata": {},
   "source": [
    "**Step 7: Write a function that checks if the board is full and returns a boolean value. True if full, False otherwise.**"
   ]
  },
  {
   "cell_type": "code",
   "execution_count": 75,
   "id": "8865cf3d-839c-4f99-8917-aad17d6eed03",
   "metadata": {},
   "outputs": [],
   "source": [
    "def full_board_check(board):\n",
    "    for i in range(1,10):\n",
    "        if space_check(board, i):\n",
    "            return False\n",
    "    return True"
   ]
  },
  {
   "cell_type": "markdown",
   "id": "5a730ed2-0573-457d-990e-8a1d39a818f6",
   "metadata": {},
   "source": [
    "**Step 8: Write a function that asks for a player's next position (as a number 1-9) and then uses the function from step 6 to check if its a free position. If it is, then return the position for later use. **"
   ]
  },
  {
   "cell_type": "code",
   "execution_count": 78,
   "id": "4dc06262-2e04-4dba-b013-854d332b7ab1",
   "metadata": {},
   "outputs": [],
   "source": [
    "def player_choice(board):\n",
    "    position = 0\n",
    "    while position not in [1,2,3,4,5,6,7,8,9] or not space_check(board, position):\n",
    "        position = int(input('Choose yout next position: (1-9) '))\n",
    "\n",
    "    return position\n",
    "    "
   ]
  },
  {
   "cell_type": "markdown",
   "id": "d4f706c1-3de9-4b85-9961-5d169e053ec8",
   "metadata": {},
   "source": [
    "**Step 9: Write a function that asks the player if they want to play again and returns a boolean True if they do want to play again.**"
   ]
  },
  {
   "cell_type": "code",
   "execution_count": 45,
   "id": "0b7d09a3-fa4e-4671-9bf8-8467675a67e0",
   "metadata": {},
   "outputs": [],
   "source": [
    "def replay():\n",
    "    \n",
    "    return input('Do you want to play again? Enter Yes or No: ').lower().startswith('y')"
   ]
  },
  {
   "cell_type": "markdown",
   "id": "2ce281fb-7bd0-419f-9a9e-cb4182f46fde",
   "metadata": {},
   "source": [
    "**Step 10: Here comes the hard part! Use while loops and the functions you've made to run the game!**"
   ]
  },
  {
   "cell_type": "code",
   "execution_count": 85,
   "id": "79b9d944-a6b1-4dd1-9624-af3f8d2c1c8b",
   "metadata": {},
   "outputs": [
    {
     "name": "stdout",
     "output_type": "stream",
     "text": [
      "      |      |\n",
      "      |  X   |   X\n",
      "      |      |\n",
      "---------------------\n",
      "      |      |\n",
      "      |  X   |    \n",
      "      |      |\n",
      "---------------------\n",
      "      |      |\n",
      "   O  |  O   |   O\n",
      "      |      |\n",
      "Congratulations! You won the game!\n"
     ]
    },
    {
     "name": "stdin",
     "output_type": "stream",
     "text": [
      "Do you want to play again? Enter Yes or No:  no\n"
     ]
    }
   ],
   "source": [
    "print('Welcome to Tic Tac Toe!')\n",
    "\n",
    "while True:\n",
    "    #reset the board\n",
    "    theBoard = [' '] * 10\n",
    "    player1_marker, player2_marker = player_input()\n",
    "    turn = choose_first()\n",
    "    print(turn + ' will go first.')\n",
    "\n",
    "    play_game = input('Are you ready to play? Enter Yes or NO.')\n",
    "\n",
    "    if play_game.lower()[0] == 'y':\n",
    "        game_on = True\n",
    "    else:\n",
    "        game_on = False\n",
    "\n",
    "    while game_on:\n",
    "        if turn == 'Player 1':\n",
    "            #player1's turn\n",
    "            display_board(theBoard)\n",
    "            position = player_choice(theBoard)\n",
    "            place_marker(theBoard, player1_marker, position)\n",
    "\n",
    "            if win_check(theBoard,player1_marker):\n",
    "                display_board(theBoard)\n",
    "                print('Congratulations! You won the game!')\n",
    "                game_on = False\n",
    "            else:\n",
    "                if full_board_check(theBoard):\n",
    "                    display_board(theBoard)\n",
    "                    print('The game is a draw!')\n",
    "                    break\n",
    "                else:\n",
    "                    turn = 'Player 2'\n",
    "        else:\n",
    "            #player2's turn.\n",
    "\n",
    "            display_board(theBoard)\n",
    "            position = player_choice(theBoard)\n",
    "            place_marker(theBoard, player2_marker, position)\n",
    "\n",
    "            if win_check(theBoard,player2_marker):\n",
    "                display_board(theBoard)\n",
    "                print('Player_2 has won!')\n",
    "                game_on = False\n",
    "            else:\n",
    "                if full_board_check(theBoard):\n",
    "                    display_board(theBoard)\n",
    "                    print('The game is a draw!')\n",
    "                    break\n",
    "                else:\n",
    "                    turn = 'Player 1'\n",
    "\n",
    "    if not replay():\n",
    "        break"
   ]
  },
  {
   "cell_type": "code",
   "execution_count": null,
   "id": "3ce78c3b-c160-4b3e-9075-9152ddb25d75",
   "metadata": {},
   "outputs": [],
   "source": []
  }
 ],
 "metadata": {
  "kernelspec": {
   "display_name": "Python 3 (ipykernel)",
   "language": "python",
   "name": "python3"
  },
  "language_info": {
   "codemirror_mode": {
    "name": "ipython",
    "version": 3
   },
   "file_extension": ".py",
   "mimetype": "text/x-python",
   "name": "python",
   "nbconvert_exporter": "python",
   "pygments_lexer": "ipython3",
   "version": "3.12.4"
  }
 },
 "nbformat": 4,
 "nbformat_minor": 5
}
